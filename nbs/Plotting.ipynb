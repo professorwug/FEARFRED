{
 "cells": [
  {
   "cell_type": "code",
   "execution_count": null,
   "id": "0cd135f9-f42f-4c86-a9e2-8902f96d7cea",
   "metadata": {},
   "outputs": [],
   "source": [
    "#| default_exp plotting"
   ]
  },
  {
   "cell_type": "markdown",
   "id": "9c1a5311-9011-4fb8-b1ef-a02ef873b083",
   "metadata": {},
   "source": [
    "# Visualization functions"
   ]
  },
  {
   "cell_type": "markdown",
   "id": "af15c585-754e-4201-ac66-0655e5fb6c53",
   "metadata": {},
   "source": [
    "## Plotting a 2D flow field"
   ]
  },
  {
   "cell_type": "code",
   "execution_count": null,
   "id": "a759885a-7064-4c3c-aa0f-5dbcd66f2548",
   "metadata": {},
   "outputs": [],
   "source": [
    "#| export\n",
    "import torch\n",
    "import numpy as np\n",
    "import matplotlib.pyplot as plt\n",
    "def plot_directed_2d(X, flows, labels=None, mask_prob=0.5, cmap=\"viridis\", ax=None, save = False, use_streamlines = True, title = \"\", filename = \"\", equal_aspect_ratio = True, minimal=False,arrow_scale=8):    \n",
    "    # Plots a set of points with their associated flows\n",
    "    if type(X) is torch.Tensor:\n",
    "        X = X.detach().numpy()\n",
    "    if type(flows) is torch.Tensor:\n",
    "        flows = flows.detach().numpy()\n",
    "    if type(labels) is torch.Tensor:\n",
    "        labels = labels.detach().numpy()\n",
    "    num_nodes = X.shape[0]\n",
    "    alpha_points, alpha_arrows = (0.1, 1) if labels is None else (1, 0.1)\n",
    "    if ax is None:\n",
    "        fig = plt.figure()\n",
    "        ax = fig.add_subplot()\n",
    "    ax.scatter(X[:, 0], X[:, 1], marker=\".\", c=labels, cmap=cmap, alpha=alpha_points)\n",
    "    mask = np.random.rand(num_nodes) > mask_prob\n",
    "    ax.quiver(\n",
    "        X[mask, 0], \n",
    "        X[mask, 1], \n",
    "        flows[mask, 0], \n",
    "        flows[mask, 1], \n",
    "        alpha=alpha_arrows,\n",
    "        scale=arrow_scale\n",
    "    )\n",
    "    if equal_aspect_ratio:\n",
    "        ax.set_aspect(\"equal\")\n",
    "    ax.set_aspect(\"equal\")\n",
    "    ax.set_title(title)\n",
    "    if minimal:\n",
    "        ax.axis('off')\n",
    "    if ax is None:\n",
    "        plt.show()\n",
    "    if save:\n",
    "        plt.savefig(filename)\n",
    "        plt.close()\n"
   ]
  },
  {
   "cell_type": "code",
   "execution_count": null,
   "id": "3ff81435-dfe9-4fdd-a0c9-3cb01979cef1",
   "metadata": {},
   "outputs": [],
   "source": [
    "#| export\n",
    "def plot_flow_field_2d(FG, # An instance of the FlowGenerator class\n",
    "                       n_samples=500, \n",
    "                       arrow_scale=8 # size of the arrows in the embedding. A smaller number creates larger arrows.\n",
    "                      ):\n",
    "    inputs = torch.rand(n_samples,FG.dimension)\n",
    "    X, flows, features = FG(inputs)\n",
    "    plot_directed_2d(X,flows,features,arrow_scale=arrow_scale)"
   ]
  },
  {
   "cell_type": "markdown",
   "id": "39682a14-bb1d-4627-aac5-074a31b13ed0",
   "metadata": {},
   "source": [
    "# Plotting 3d Manifolds"
   ]
  },
  {
   "cell_type": "code",
   "execution_count": null,
   "id": "d9606515-158d-47d7-bff0-29b9f370096c",
   "metadata": {},
   "outputs": [],
   "source": [
    "#| export\n",
    "def plot_origin_3d(ax, xlim, ylim, zlim):\n",
    "    ax.plot(xlim, [0, 0], [0, 0], color=\"k\", alpha=0.5)\n",
    "    ax.plot([0, 0], ylim, [0, 0], color=\"k\", alpha=0.5)\n",
    "    ax.plot([0, 0], [0, 0], zlim, color=\"k\", alpha=0.5)\n",
    "\n",
    "\n",
    "def plot_directed_3d(X, flow, labels=None, mask_prob=0.5, cmap=\"viridis\", origin=False, ax=None, save = False, filename = \"\", plot_minimal = False):\n",
    "    num_nodes = X.shape[0]\n",
    "    alpha_points, alpha_arrows = (0.1, 1) if labels is None else (1, 0.1)\n",
    "    mask = np.random.rand(num_nodes) > mask_prob\n",
    "    if ax is None:\n",
    "        fig = plt.figure(dpi=400, figsize=(8,8))\n",
    "        ax = fig.add_subplot(projection=\"3d\")\n",
    "    if origin:\n",
    "        plot_origin_3d(\n",
    "            ax,\n",
    "            xlim=[X[:, 0].min(), X[:, 0].max()],\n",
    "            ylim=[X[:, 1].min(), X[:, 1].max()],\n",
    "            zlim=[X[:, 2].min(), X[:, 2].max()],\n",
    "        )\n",
    "    ax.scatter(X[:, 0], X[:, 1], X[:, 2], marker=\".\", c=labels, cmap=cmap, alpha=alpha_points, )\n",
    "    ax.quiver3D(\n",
    "        X[mask, 0],\n",
    "        X[mask, 1],\n",
    "        X[mask, 2],\n",
    "        flow[mask, 0],\n",
    "        flow[mask, 1],\n",
    "        flow[mask, 2],\n",
    "        alpha=alpha_arrows,\n",
    "        length=0.5,\n",
    "        arrow_length_ratio=0.2\n",
    "    )\n",
    "    if plot_minimal:\n",
    "        ax.axis(\"off\")\n",
    "    # lim = np.max(np.linalg.norm(X, axis=1))\n",
    "    # print(\"lim is\",lim)\n",
    "    # ax.axes.set_xlim3d(left=-lim, right=lim)\n",
    "    # ax.axes.set_ylim3d(bottom=-lim, top=lim)\n",
    "    # ax.axes.set_zlim3d(bottom=-lim, top=lim)\n",
    "    if ax is None:\n",
    "        plt.show()\n",
    "    if save:\n",
    "        plt.savefig(filename)\n",
    "        plt.close()\n"
   ]
  },
  {
   "cell_type": "markdown",
   "id": "c2574474-0b15-40d8-9e84-38c7af4bdc5a",
   "metadata": {},
   "source": [
    "# Plotting Graphs"
   ]
  },
  {
   "cell_type": "code",
   "execution_count": null,
   "id": "540049ce-07a3-474c-83ef-c8f6fea09f5c",
   "metadata": {},
   "outputs": [],
   "source": [
    "#| export\n",
    "import matplotlib.pyplot as plt\n",
    "import networkx as nx\n",
    "\n",
    "def visualize_graph(adjacency, is_networkx=False, to_undirected=False, ax=None):\n",
    "    G = nx.from_numpy_matrix(adjacency)\n",
    "    pos = nx.spring_layout(G, seed=42)\n",
    "    if ax is None:\n",
    "        nx.draw_networkx(\n",
    "            G, pos=pos, arrowsize=20, node_color=\"#adade0\"\n",
    "        )\n",
    "        plt.show()\n",
    "    else:\n",
    "        nx.draw_networkx(\n",
    "            G, pos=pos, arrowsize=20, node_color=\"#adade0\", ax=ax\n",
    "        )\n"
   ]
  },
  {
   "cell_type": "code",
   "execution_count": null,
   "id": "bbc53401-8d59-401b-aede-e3d389807b6c",
   "metadata": {},
   "outputs": [],
   "source": []
  }
 ],
 "metadata": {
  "kernelspec": {
   "display_name": "Python [conda env:FEARFRED]",
   "language": "python",
   "name": "conda-env-FEARFRED-py"
  }
 },
 "nbformat": 4,
 "nbformat_minor": 5
}
