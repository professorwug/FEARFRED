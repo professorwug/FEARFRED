{
 "cells": [
  {
   "cell_type": "code",
   "execution_count": null,
   "metadata": {},
   "outputs": [
    {
     "name": "stdout",
     "output_type": "stream",
     "text": [
      "Using device cpu\n"
     ]
    }
   ],
   "source": [
    "#| default_exp eeemd\n",
    "from nbdev.showdoc import *\n",
    "import numpy as np\n",
    "import matplotlib.pyplot as plt\n",
    "import torch\n",
    "import FEARFRED\n",
    "if torch.__version__[:4] == '1.13': # If using pytorch with MPS, use Apple silicon GPU acceleration\n",
    "    device = torch.device(\"cuda\" if torch.cuda.is_available() else 'mps' if torch.has_mps else \"cpu\")\n",
    "else:\n",
    "    device = torch.device(\"cuda\" if torch.cuda.is_available() else \"cpu\")\n",
    "print(\"Using device\", device)\n",
    "%load_ext autoreload\n",
    "%autoreload 2"
   ]
  },
  {
   "cell_type": "markdown",
   "metadata": {},
   "source": [
    "# EEEMD: Edge-to-Edge Earth Mover's Distance\n",
    "> EMD between graphs with same number of nodes"
   ]
  },
  {
   "cell_type": "markdown",
   "metadata": {},
   "source": [
    "We want a distance between graphs with the same number of nodes, obeying:\n",
    "1. The cost of moving an edge from one neighbor to another neighbor is lower than the cost of moving it from a neighbor to a non-neighbor.\n",
    "2. The distance between a pair of edges having one point in common is smaller than the distance between a pair of edges having no points in common.\n",
    "3. The above differences in magnitude correspond to the geodesic (manifold) distances on the graph.\n",
    "\n",
    "Such a distance could be useful to FRED. We've previously used the KLD between adjacency matrices as a proxy for this graph-to-graph distance, but the KLD doesn't respect the graph geometry — all edges are equally far apart. As a result, gradients flowing from the KLD can't give as useful information to the model -- insofar as *which* way to tweak the edges or move the nodes -- as might the mythical EEEMD."
   ]
  },
  {
   "cell_type": "markdown",
   "metadata": {},
   "source": [
    "## City-block EEEMD\n",
    "Here's one very simple such metric satisfying the above. Let $e_{ij}$ denote the edge between $i$ and $j$. Then we define the distance as:\n",
    "\n",
    "Neighboring edges (those which share one node) have distance equal to the transport cost between the nodes that they don't share:\n",
    "$$d(e_{ij}, e_{ik}) = d_{graph}(j,k)$$\n",
    "\n",
    "Where $d_{graph}$ is a ground distance between the nodes of $G_1$ *at the current stage of surgery*.\n",
    "\n",
    "By the triangle inequality, other edges have distance less than or equal to the distance obtained by moving one node to a neighboring node and then moving the other:\n",
    "$$d(e_{ij},e_{kl}) \\leq d(e_{ij}, e_{kj}) + d(e_{kj},e_{kl})$$\n",
    "\n",
    "We'll go ahead and declare this a city-block style metric, in which this distance is equal\n",
    "$$d(e_{ij},e_{kl}) = \\text{min}(d(e_{ij}, e_{kj}) + d(e_{kj},e_{jl}), d(e_{ij}, e_{il}) + d(e_{il},e_{kl}))$$\n",
    "\n",
    "This defines a distance metric between pairs of edges. Using this as a *ground* distance over the adjacency matrix, we define the City-block EEMD as the EMD between the adjacency matrices under the cityblock edge-to-edge ground distance."
   ]
  },
  {
   "cell_type": "code",
   "execution_count": null,
   "metadata": {},
   "outputs": [],
   "source": [
    "from scipy.sparse import csr_array\n",
    "def edge_to_edge_cityblock_distance(\n",
    "    A1:torch.Tensor, # Adjacency matrix of first graph (as torch.tensor)\n",
    "    A2:torch.Tensor, # Adjacency matrix of second graph\n",
    "    node_distances:torch.Tensor # Distance matrix between nodes of graph\n",
    "):\n",
    "    pass"
   ]
  },
  {
   "cell_type": "code",
   "execution_count": null,
   "metadata": {},
   "outputs": [],
   "source": [
    "from scipy.sparse import csr_array\n",
    "def EEEMD_cityblock(\n",
    "    A1, # A torch geometric graph object\n",
    "    A2, \n",
    "    Dgraph\n",
    "):\n",
    "    # Calculate edge-to-edge ground distance\n",
    "    # Support sparse matrices for more efficient computation: we only care \n",
    "    # First, calculate distances between neighbors.\n",
    "    # Get nonzero combined indices; we only care about these distances\n",
    "    nonzero_indices = np.vstack(csr_array(A1 + A2).nonzero())\n",
    "    return nonzero_indices\n"
   ]
  },
  {
   "cell_type": "code",
   "execution_count": null,
   "metadata": {},
   "outputs": [],
   "source": [
    "# test case: branch graph\n",
    "from FEARFRED.datasets.toy_graphs import CycleGraph, HalfCycleGraph\n",
    "A1 = CycleGraph(num_nodes=10)[0]\n",
    "A2 = HalfCycleGraph(num_nodes=10)[0]"
   ]
  },
  {
   "cell_type": "code",
   "execution_count": null,
   "metadata": {},
   "outputs": [],
   "source": [
    "# EEEMD_cityblock(A1,A2,)"
   ]
  },
  {
   "cell_type": "code",
   "execution_count": null,
   "metadata": {},
   "outputs": [],
   "source": [
    "from scipy.sparse import csr_array\n",
    "U = np.random.rand(10,10)\n",
    "Usparse = csr_array(U)"
   ]
  },
  {
   "cell_type": "code",
   "execution_count": null,
   "metadata": {},
   "outputs": [
    {
     "data": {
      "text/plain": [
       "torch_geometric.data.data.Data"
      ]
     },
     "execution_count": null,
     "metadata": {},
     "output_type": "execute_result"
    }
   ],
   "source": [
    "type(A1)"
   ]
  },
  {
   "cell_type": "code",
   "execution_count": null,
   "metadata": {},
   "outputs": [],
   "source": []
  }
 ],
 "metadata": {
  "kernelspec": {
   "display_name": "Python [conda env:FEARFRED]",
   "language": "python",
   "name": "conda-env-FEARFRED-py"
  }
 },
 "nbformat": 4,
 "nbformat_minor": 4
}
